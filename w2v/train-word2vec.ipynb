{
  "cells": [
    {
      "cell_type": "markdown",
      "source": [
        "# Install libraries"
      ],
      "metadata": {
        "id": "48wyEjbsW19M"
      }
    },
    {
      "cell_type": "code",
      "execution_count": null,
      "metadata": {
        "colab": {
          "base_uri": "https://localhost:8080/"
        },
        "id": "bldVK-5-jd5O",
        "outputId": "9f90d3e3-3937-4c0e-adb4-9f9af5755b10"
      },
      "outputs": [
        {
          "output_type": "stream",
          "name": "stdout",
          "text": [
            "Requirement already satisfied: nltk in /usr/local/lib/python3.10/dist-packages (3.8.1)\n",
            "Requirement already satisfied: click in /usr/local/lib/python3.10/dist-packages (from nltk) (8.1.7)\n",
            "Requirement already satisfied: joblib in /usr/local/lib/python3.10/dist-packages (from nltk) (1.3.2)\n",
            "Requirement already satisfied: regex>=2021.8.3 in /usr/local/lib/python3.10/dist-packages (from nltk) (2023.12.25)\n",
            "Requirement already satisfied: tqdm in /usr/local/lib/python3.10/dist-packages (from nltk) (4.66.2)\n",
            "Requirement already satisfied: gensim in /usr/local/lib/python3.10/dist-packages (4.3.2)\n",
            "Requirement already satisfied: numpy>=1.18.5 in /usr/local/lib/python3.10/dist-packages (from gensim) (1.25.2)\n",
            "Requirement already satisfied: scipy>=1.7.0 in /usr/local/lib/python3.10/dist-packages (from gensim) (1.11.4)\n",
            "Requirement already satisfied: smart-open>=1.8.1 in /usr/local/lib/python3.10/dist-packages (from gensim) (6.4.0)\n"
          ]
        }
      ],
      "source": [
        "!pip install nltk\n",
        "!pip install gensim\n"
      ]
    },
    {
      "cell_type": "markdown",
      "source": [
        "# Train word2vec"
      ],
      "metadata": {
        "id": "126T1CpSW7mE"
      }
    },
    {
      "cell_type": "code",
      "execution_count": null,
      "metadata": {
        "colab": {
          "base_uri": "https://localhost:8080/"
        },
        "id": "5L7C47TTjUOs",
        "outputId": "18d82dee-8bcd-453f-f301-53ed96a05444"
      },
      "outputs": [
        {
          "output_type": "stream",
          "name": "stderr",
          "text": [
            "[nltk_data] Downloading package punkt to /root/nltk_data...\n",
            "[nltk_data]   Unzipping tokenizers/punkt.zip.\n"
          ]
        },
        {
          "output_type": "stream",
          "name": "stdout",
          "text": [
            "The model has been successfully saved as a .txt file\n"
          ]
        }
      ],
      "source": [
        "import re\n",
        "import gensim\n",
        "import nltk\n",
        "from gensim.models import Word2Vec\n",
        "from nltk.tokenize import sent_tokenize\n",
        "nltk.download('punkt')\n",
        "\n",
        "# Path to file text.txt\n",
        "file_path = 'text.txt'\n",
        "\n",
        "# Read data from file\n",
        "with open(file_path, 'r', encoding='utf-8') as file:\n",
        "    data = file.read()\n",
        "\n",
        "# Divide the paragraph into sentences\n",
        "sentences = sent_tokenize(data)\n",
        "\n",
        "# Regular expression to separate words, including emoticons\n",
        "pattern = r'\\w+[:\\.\\(\\);-]*\\)+|\\S+'\n",
        "\n",
        "# Separate each sentence into words and emotional expressions\n",
        "tokenized_sentences = []\n",
        "for sentence in sentences:\n",
        "    tokenized_sentence = re.findall(pattern, sentence)\n",
        "    tokenized_sentences.append(tokenized_sentence)\n",
        "\n",
        "# Train model word2vec\n",
        "model = Word2Vec(tokenized_sentences, min_count=1, vector_size=100, window=5, sg=1)\n",
        "\n",
        "# Save model as .txt file\n",
        "model_path = 'word2vec.txt'\n",
        "model.wv.save_word2vec_format(model_path, binary=False)\n",
        "\n",
        "print(\"The model has been successfully saved as a .txt file\")\n"
      ]
    }
  ],
  "metadata": {
    "colab": {
      "provenance": []
    },
    "kernelspec": {
      "display_name": "Python 3",
      "name": "python3"
    },
    "language_info": {
      "name": "python"
    }
  },
  "nbformat": 4,
  "nbformat_minor": 0
}