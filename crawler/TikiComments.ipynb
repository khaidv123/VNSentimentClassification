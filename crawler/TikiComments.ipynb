{
  "cells": [
    {
      "cell_type": "markdown",
      "source": [
        "# Import libraries"
      ],
      "metadata": {
        "id": "euXCm7YkYYZE"
      },
      "id": "euXCm7YkYYZE"
    },
    {
      "cell_type": "code",
      "execution_count": null,
      "id": "e8dc07d5-ffdc-4c2a-b1a6-7ffed81e5005",
      "metadata": {
        "id": "e8dc07d5-ffdc-4c2a-b1a6-7ffed81e5005"
      },
      "outputs": [],
      "source": [
        "from selenium import webdriver\n",
        "from time import sleep\n",
        "from selenium.webdriver.common.keys import Keys\n",
        "from selenium.webdriver.chrome.options import Options\n",
        "from selenium.common.exceptions import NoSuchElementException\n",
        "import csv"
      ]
    },
    {
      "cell_type": "markdown",
      "source": [
        "# Automated Comment Scraping with Selenium in Python"
      ],
      "metadata": {
        "id": "3_ztyeuqYrFp"
      },
      "id": "3_ztyeuqYrFp"
    },
    {
      "cell_type": "code",
      "execution_count": null,
      "id": "187f2ff1-3340-4015-bdc5-710ff7cae5d6",
      "metadata": {
        "id": "187f2ff1-3340-4015-bdc5-710ff7cae5d6"
      },
      "outputs": [],
      "source": [
        "from selenium.webdriver.common.keys import Keys\n",
        "\n",
        "chrome_options = Options()\n",
        "chrome_options.add_argument(\"--disable-notifications\")\n",
        "\n",
        "def scroll_to_position(browser, start_position, end_position):\n",
        "    current_position = start_position\n",
        "    while current_position < end_position:\n",
        "        browser.execute_script(\"window.scrollTo(0, {});\".format(current_position))\n",
        "        current_position += 10\n",
        "\n",
        "def get_comment_from_url(url):\n",
        "    browser = webdriver.Chrome(executable_path=\"C:/Users/bacth/OneDrive/Desktop/chromedriver-win64/chromedriver.exe\", chrome_options=chrome_options)\n",
        "    browser.get(url)\n",
        "    browser.implicitly_wait(10)\n",
        "\n",
        "\n",
        "    comments = []\n",
        "    while True:\n",
        "        page_height = browser.execute_script(\"return document.body.scrollHeight\")\n",
        "        scroll_to_position(browser, page_height // 3, page_height // 1.6)\n",
        "        sleep(5)\n",
        "\n",
        "        cmt_list = browser.find_elements_by_class_name('review-comment__content')\n",
        "        if cmt_list :\n",
        "            for cmt in cmt_list:\n",
        "                comments.append(cmt.text)\n",
        "            sleep(5)\n",
        "            try:\n",
        "                cmt_list = browser.find_element_by_xpath('//*[@id=\"customer-review-widget-id\"]/div/div[2]/div/div[10]/ul/li[7]/a')\n",
        "                if cmt_list:\n",
        "                    cmt_list.click()\n",
        "                else:\n",
        "                    break\n",
        "            except NoSuchElementException:\n",
        "                break\n",
        "        else:\n",
        "            break\n",
        "    return comments\n",
        "def save_comments_to_csv(comments, file_path):\n",
        "    with open(file_path, 'w', newline='', encoding='utf-8') as csv_file:\n",
        "        writer = csv.writer(csv_file)\n",
        "        writer.writerow(['Comments'])\n",
        "        for comment in comments:\n",
        "            writer.writerow([comment])"
      ]
    },
    {
      "cell_type": "code",
      "execution_count": null,
      "id": "7dde57b9-432c-4231-94b8-b5f5e272e437",
      "metadata": {
        "id": "7dde57b9-432c-4231-94b8-b5f5e272e437",
        "outputId": "43de0ee2-2761-4c5f-9601-7ab46b17c18e"
      },
      "outputs": [
        {
          "name": "stderr",
          "output_type": "stream",
          "text": [
            "C:\\Users\\bacth\\AppData\\Local\\Temp\\ipykernel_1376\\2912522835.py:14: DeprecationWarning: executable_path has been deprecated, please pass in a Service object\n",
            "  browser = webdriver.Chrome(executable_path=\"C:/Users/bacth/OneDrive/Desktop/chromedriver-win64/chromedriver.exe\", chrome_options=chrome_options)\n",
            "C:\\Users\\bacth\\AppData\\Local\\Temp\\ipykernel_1376\\2912522835.py:14: DeprecationWarning: use options instead of chrome_options\n",
            "  browser = webdriver.Chrome(executable_path=\"C:/Users/bacth/OneDrive/Desktop/chromedriver-win64/chromedriver.exe\", chrome_options=chrome_options)\n",
            "C:\\Users\\bacth\\AppData\\Local\\Temp\\ipykernel_1376\\2912522835.py:29: DeprecationWarning: find_elements_by_* commands are deprecated. Please use find_elements() instead\n",
            "  cmt_list = browser.find_elements_by_class_name('review-comment__content')\n",
            "C:\\Users\\bacth\\AppData\\Local\\Temp\\ipykernel_1376\\2912522835.py:35: DeprecationWarning: find_element_by_* commands are deprecated. Please use find_element() instead\n",
            "  cmt_list = browser.find_element_by_xpath('//*[@id=\"customer-review-widget-id\"]/div/div[2]/div/div[10]/ul/li[7]/a')\n"
          ]
        }
      ],
      "source": [
        "cmt = get_comment_from_url('https://tiki.vn/nuoc-mam-truyen-thong-le-gia-cot-dac-biet-525ml-p1987981.html?spid=1987983&itm_campaign=tiki-reco_UNK_DT_UNK_UNK_deal-hot_UNK_rule-base-flash-deal-v3_UNK_RB_batched_PID.1987983&itm_medium=CPC&itm_source=tiki-reco&tclid=9125b92218738e463688f073c2555391ce769a2882d8b359eb31ccabbd0ac84c')"
      ]
    },
    {
      "cell_type": "markdown",
      "source": [
        "# Convert Comments to CSV Format in Python"
      ],
      "metadata": {
        "id": "Ut49_jR2ZA7v"
      },
      "id": "Ut49_jR2ZA7v"
    },
    {
      "cell_type": "code",
      "execution_count": null,
      "id": "a098b936-8346-439b-98c2-997eff0acd03",
      "metadata": {
        "id": "a098b936-8346-439b-98c2-997eff0acd03"
      },
      "outputs": [],
      "source": [
        "cmt = np.array(cmt)\n",
        "save_comments_to_csv(cmt,'comments.csv')"
      ]
    },
    {
      "cell_type": "markdown",
      "source": [
        "# Print some Comments"
      ],
      "metadata": {
        "id": "PY-P4C97ZF9x"
      },
      "id": "PY-P4C97ZF9x"
    },
    {
      "cell_type": "code",
      "execution_count": null,
      "id": "377c85a4-c24e-46e9-a477-aa02ef4ed479",
      "metadata": {
        "id": "377c85a4-c24e-46e9-a477-aa02ef4ed479",
        "outputId": "6bf44214-bcc3-496a-b757-b8ac56364dda"
      },
      "outputs": [
        {
          "data": {
            "text/plain": [
              "array(['Vị khá ngon, không bị mặn quá như nước mắm truyền thống khác\\nThời gian giao hàng rất nhanh. Rất đáng tiền. Đóng gói sản phẩm rất đẹp và chắc chắn. Chất lượng sản phẩm tuyệt vời',\n",
              "       ' mắm chuẩn ngon, từ khi dùng mắm lê gia thì nhà mình ko còn dùng mắm của những thương hiệu khác nữa. đặt hàng của chính nhà sản xuất nên rất iên tâm. chai thủy tinh luôn bọc kĩ, cẩn thận để giao cho khách.... Xem thêm',\n",
              "       ' Sản phẩm màu đẹp, mùi thơm, không bị mặn gắt rất dễ sử dụng, chai thủy tinh dày dặn, cầm chắc tay. shop đóng gói chắc chắn, tư vấn nhiệt tình, giao hàng nhanh thực sự luôn. đặt trưa hôm trước hôm sau... Xem thêm',\n",
              "       ' Mắm Lê Gia ngon, chất lượng. Mắm cốt truyền thống, không phụ gia nên dùng an tâm. Mình ưng ý nhất ở thiết kế nắp chai, rất khéo, lúc rót mắm không bị chảy dây ra chai nên rất vệ sinh. Đây cũng là điểm... Xem thêm',\n",
              "       'thấy thành phần chỉ có cá, muối. là yên tâm dùng ròi. rất sợ nc mắm có thành phần hoá học. sẽ ủng hộ.',\n",
              "       'Giao hàng nhanh\\nSản phẩm chất lượng, cứ bị rất ok ấy 👌\\nShop tư vấn nhiệt tình\\nSẽ ủng hộ shop nhiều 😍😍😍',\n",
              "       'Nước mắm thơm, vị đậm đà không mặn gắt . sẽ ủng hộ shop nữa',\n",
              "       'Đã order tiki lần 4. Ăn hơn 10c mắm truyền thống Lê gia rùi. Rất ok',\n",
              "       'bị vỡ rồi',\n",
              "       'ngon. cảm ơm shop. gói hàng siêu kĩ. sẽ ủng hộ lâu dài nha. ưng lắm luôn ó',\n",
              "       'Tuyệt vời, đóng gói cẩn thận, giao hàng nhanh.',\n",
              "       'Vị đậm đà đúng nước cốt, không giống nước mắm pha',\n",
              "       'Chưa dùng nhưng nhìn cung cách đóng gói sản phẩm thấy yên tâm về chất lượng',\n",
              "       'Nước mắm ngon, vừa miệng. Đóng gói cẩn thận, giao hành rất nhanh.',\n",
              "       'ĐÓNG GÓI RẤT CẨN THẬN- GIAO HÀNG NHANH - CHẤT LƯỢNG NƯỚC MẮM TUYỆT HẢO , RẤT ĐÁNG MUA !',\n",
              "       '', 'Ngon Nhat 36 N 80k ok', '',\n",
              "       'Hương vị chuẩn thơm dịu dàng, mầu nâu vàng ko kết tủa, mùi mặn ngọt thanh dịu ko bị gắt khi vào cổ họng',\n",
              "       'thơm ngon',\n",
              "       ' Nước mắm có hương vị giống y như chén nước mắm ớt ăn kèm canh chua cá hú lúc còn nhỏ. Không nồng nặc mùi mắm như các sản phẩm truyền thống khác, nhưng vẫn mang đủ vị ngon không cần hóa chất. Thật sự hài... Xem thêm',\n",
              "       '', '',\n",
              "       'Nước mắm ngon đáng mua,thấy đánh giá trên tiki ai cũng khen ngon nên oder ăn thử,ai dè ngon thật sẽ mua tiếp nếu nhà hết nc mắm',\n",
              "       '', '',\n",
              "       'Nước mắm ăn rất ổn với gđ mình, hi vọng giá hợp li hơn nữa nha',\n",
              "       '', '', ''], dtype='<U217')"
            ]
          },
          "execution_count": 107,
          "metadata": {},
          "output_type": "execute_result"
        }
      ],
      "source": [
        "cmt"
      ]
    }
  ],
  "metadata": {
    "kernelspec": {
      "display_name": "Python 3 (ipykernel)",
      "language": "python",
      "name": "python3"
    },
    "language_info": {
      "codemirror_mode": {
        "name": "ipython",
        "version": 3
      },
      "file_extension": ".py",
      "mimetype": "text/x-python",
      "name": "python",
      "nbconvert_exporter": "python",
      "pygments_lexer": "ipython3",
      "version": "3.10.9"
    },
    "colab": {
      "provenance": []
    }
  },
  "nbformat": 4,
  "nbformat_minor": 5
}